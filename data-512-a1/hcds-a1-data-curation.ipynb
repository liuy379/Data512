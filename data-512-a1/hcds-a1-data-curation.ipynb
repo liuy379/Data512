{
 "cells": [
  {
   "cell_type": "code",
   "execution_count": 1,
   "metadata": {},
   "outputs": [],
   "source": [
    "import pandas as pd\n",
    "import numpy as np\n",
    "import json\n",
    "import requests\n",
    "import matplotlib.pyplot as plt\n",
    "pd.options.display.max_rows = 999"
   ]
  },
  {
   "cell_type": "code",
   "execution_count": 2,
   "metadata": {},
   "outputs": [],
   "source": [
    "# Function that loads data from api\n",
    "def api_call(endpoint):\n",
    "    call = requests.get(endpoint)\n",
    "    response = call.json()\n",
    "    \n",
    "    return response"
   ]
  },
  {
   "cell_type": "markdown",
   "metadata": {},
   "source": [
    "### Read and write pagecount desktop data"
   ]
  },
  {
   "cell_type": "code",
   "execution_count": 3,
   "metadata": {},
   "outputs": [],
   "source": [
    "endpoint = 'https://wikimedia.org/api/rest_v1/metrics/legacy/pagecounts/aggregate/en.wikipedia/desktop-site/monthly/2007120100/2016080100'"
   ]
  },
  {
   "cell_type": "code",
   "execution_count": 4,
   "metadata": {
    "scrolled": false
   },
   "outputs": [],
   "source": [
    "calls = api_call(endpoint)"
   ]
  },
  {
   "cell_type": "code",
   "execution_count": null,
   "metadata": {
    "scrolled": false
   },
   "outputs": [],
   "source": [
    "df = pd.DataFrame(calls['items'])"
   ]
  },
  {
   "cell_type": "code",
   "execution_count": 6,
   "metadata": {},
   "outputs": [],
   "source": [
    "with open('pagecounts_desktop-site_200712-201608.json', 'w') as f:\n",
    "    json.dump(calls, f)"
   ]
  },
  {
   "cell_type": "markdown",
   "metadata": {},
   "source": [
    "### Read and write pagecount mobile data"
   ]
  },
  {
   "cell_type": "code",
   "execution_count": 7,
   "metadata": {},
   "outputs": [],
   "source": [
    "endpoint = 'https://wikimedia.org/api/rest_v1/metrics/legacy/pagecounts/aggregate/en.wikipedia/mobile-site/monthly/2007120100/2016080100'"
   ]
  },
  {
   "cell_type": "code",
   "execution_count": 8,
   "metadata": {
    "scrolled": false
   },
   "outputs": [],
   "source": [
    "calls = api_call(endpoint)"
   ]
  },
  {
   "cell_type": "code",
   "execution_count": null,
   "metadata": {
    "scrolled": true
   },
   "outputs": [],
   "source": [
    "df = pd.DataFrame(calls['items'])"
   ]
  },
  {
   "cell_type": "code",
   "execution_count": 10,
   "metadata": {},
   "outputs": [],
   "source": [
    "with open('pagecounts_mobile-site_200712-201608.json', 'w') as f:\n",
    "    json.dump(calls, f)"
   ]
  },
  {
   "cell_type": "markdown",
   "metadata": {},
   "source": [
    "### Read and write pageview desktop data"
   ]
  },
  {
   "cell_type": "code",
   "execution_count": 11,
   "metadata": {},
   "outputs": [],
   "source": [
    "endpoint = 'https://wikimedia.org/api/rest_v1/metrics/pageviews/aggregate/en.wikipedia/desktop/user/monthly/2015070100/2019090100'"
   ]
  },
  {
   "cell_type": "code",
   "execution_count": 12,
   "metadata": {
    "scrolled": false
   },
   "outputs": [],
   "source": [
    "calls = api_call(endpoint)"
   ]
  },
  {
   "cell_type": "code",
   "execution_count": null,
   "metadata": {
    "scrolled": true
   },
   "outputs": [],
   "source": [
    "df = pd.DataFrame(calls['items'])"
   ]
  },
  {
   "cell_type": "code",
   "execution_count": 14,
   "metadata": {},
   "outputs": [],
   "source": [
    "with open('pageviews_desktop_201507-201908.json', 'w') as f:\n",
    "    json.dump(calls, f)"
   ]
  },
  {
   "cell_type": "markdown",
   "metadata": {},
   "source": [
    "### Read and write pageview mobile-app data"
   ]
  },
  {
   "cell_type": "code",
   "execution_count": 15,
   "metadata": {},
   "outputs": [],
   "source": [
    "endpoint = 'https://wikimedia.org/api/rest_v1/metrics/pageviews/aggregate/en.wikipedia/mobile-app/user/monthly/2015070100/2019090100'"
   ]
  },
  {
   "cell_type": "code",
   "execution_count": 16,
   "metadata": {
    "scrolled": false
   },
   "outputs": [],
   "source": [
    "calls = api_call(endpoint)"
   ]
  },
  {
   "cell_type": "code",
   "execution_count": null,
   "metadata": {
    "scrolled": true
   },
   "outputs": [],
   "source": [
    "df = pd.DataFrame(calls['items'])"
   ]
  },
  {
   "cell_type": "code",
   "execution_count": 19,
   "metadata": {},
   "outputs": [],
   "source": [
    "with open('pageviews_mobile-app_201507-201908.json', 'w') as f:\n",
    "    json.dump(calls, f)"
   ]
  },
  {
   "cell_type": "markdown",
   "metadata": {},
   "source": [
    "### Read and write pageview mobile-web data"
   ]
  },
  {
   "cell_type": "code",
   "execution_count": 20,
   "metadata": {},
   "outputs": [],
   "source": [
    "endpoint = 'https://wikimedia.org/api/rest_v1/metrics/pageviews/aggregate/en.wikipedia/mobile-web/user/monthly/2015070100/2019090100'"
   ]
  },
  {
   "cell_type": "code",
   "execution_count": 21,
   "metadata": {
    "scrolled": false
   },
   "outputs": [],
   "source": [
    "calls = api_call(endpoint)"
   ]
  },
  {
   "cell_type": "code",
   "execution_count": null,
   "metadata": {
    "scrolled": true
   },
   "outputs": [],
   "source": [
    "df = pd.DataFrame(calls['items'])"
   ]
  },
  {
   "cell_type": "code",
   "execution_count": 24,
   "metadata": {},
   "outputs": [],
   "source": [
    "with open('pageviews_mobile-web_201507-201908.json', 'w') as f:\n",
    "    json.dump(calls, f)"
   ]
  },
  {
   "cell_type": "markdown",
   "metadata": {},
   "source": [
    "### Read in all data, save as dataframes, and ready for analysis"
   ]
  },
  {
   "cell_type": "code",
   "execution_count": 3,
   "metadata": {},
   "outputs": [],
   "source": [
    "with open('pagecounts_desktop-site_200712-201608.json', 'r') as f:\n",
    "    counts_desktop = json.load(f)\n",
    "\n",
    "counts_desktop = pd.DataFrame(counts_desktop['items'])\n",
    "counts_desktop.drop(columns=['access-site','granularity','project'], inplace=True)\n",
    "counts_desktop.columns = ['counts_desktop','timestamp']"
   ]
  },
  {
   "cell_type": "code",
   "execution_count": 5,
   "metadata": {},
   "outputs": [],
   "source": [
    "with open('pagecounts_mobile-site_200712-201608.json', 'r') as f:\n",
    "    counts_mobile = json.load(f)\n",
    "\n",
    "counts_mobile = pd.DataFrame(counts_mobile['items'])\n",
    "counts_mobile.drop(columns=['access-site','granularity','project'], inplace=True)\n",
    "counts_mobile.columns = ['counts_mobile','timestamp']"
   ]
  },
  {
   "cell_type": "code",
   "execution_count": 7,
   "metadata": {},
   "outputs": [],
   "source": [
    "df = pd.merge(counts_desktop, counts_mobile, on='timestamp', how='outer')"
   ]
  },
  {
   "cell_type": "code",
   "execution_count": 9,
   "metadata": {},
   "outputs": [],
   "source": [
    "with open('pageviews_desktop_201507-201908.json', 'r') as f:\n",
    "    views_desktop = json.load(f)\n",
    "views_desktop = pd.DataFrame(views_desktop['items'])\n",
    "views_desktop.drop(columns=['access','agent','granularity','project'], inplace=True)\n",
    "views_desktop.columns = ['timestamp','views_desktop']"
   ]
  },
  {
   "cell_type": "code",
   "execution_count": 11,
   "metadata": {},
   "outputs": [],
   "source": [
    "with open('pageviews_mobile-app_201507-201908.json', 'r') as f:\n",
    "    views_mobile_app = json.load(f)\n",
    "\n",
    "views_mobile_app = pd.DataFrame(views_mobile_app['items'])\n",
    "views_mobile_app.drop(columns=['access','agent','granularity','project'], inplace=True)\n",
    "views_mobile_app.columns = ['timestamp','views_mobile_app']"
   ]
  },
  {
   "cell_type": "code",
   "execution_count": 13,
   "metadata": {},
   "outputs": [],
   "source": [
    "with open('pageviews_mobile-web_201507-201908.json', 'r') as f:\n",
    "    views_mobile_web = json.load(f)\n",
    "\n",
    "views_mobile_web = pd.DataFrame(views_mobile_web['items'])\n",
    "views_mobile_web.drop(columns=['access','agent','granularity','project'], inplace=True)\n",
    "views_mobile_web.columns = ['timestamp','views_mobile_web']"
   ]
  },
  {
   "cell_type": "markdown",
   "metadata": {},
   "source": [
    "### Merge data"
   ]
  },
  {
   "cell_type": "code",
   "execution_count": 16,
   "metadata": {},
   "outputs": [],
   "source": [
    "df = pd.merge(df, views_desktop, on='timestamp', how='outer')\n",
    "df = pd.merge(df, views_mobile_app, on='timestamp', how='outer')\n",
    "df = pd.merge(df, views_mobile_web, on='timestamp', how='outer')"
   ]
  },
  {
   "cell_type": "markdown",
   "metadata": {},
   "source": [
    "### Generate \"pagecount_all_views\" and \"pageview_all_views\", change data type of timestamp to datetime, fill NAs with 0"
   ]
  },
  {
   "cell_type": "code",
   "execution_count": 17,
   "metadata": {},
   "outputs": [],
   "source": [
    "df['timestamp'] = pd.to_datetime(df['timestamp'], format='%Y%m%d%H')\n",
    "df.fillna(0, inplace=True)\n",
    "df['views_mobile'] = df['views_mobile_app'] + df['views_mobile_web']\n",
    "df.drop(columns=['views_mobile_app','views_mobile_web'], inplace=True)\n",
    "df['pagecount_all_views'] = df['counts_desktop'] + df['counts_mobile']\n",
    "df['pageview_all_views'] = df['views_desktop'] + df['views_mobile']\n",
    "df['year'] = df['timestamp'].dt.year\n",
    "df['month'] = df['timestamp'].dt.month"
   ]
  },
  {
   "cell_type": "code",
   "execution_count": 19,
   "metadata": {},
   "outputs": [],
   "source": [
    "df = df[['timestamp','year','month','counts_desktop','counts_mobile','pagecount_all_views',\n",
    "   'views_desktop','views_mobile','pageview_all_views']]\n",
    "\n",
    "df.columns = ['timestamp','year','month',\n",
    "         'pagecount_desktop_views','pagecount_mobile_views','pagecount_all_views',\n",
    "         'pageview_desktop_views','pageview_mobile_views','pageview_all_views']\n",
    "\n",
    "df.drop(columns=['timestamp']).to_csv('en-wikipedia_traffic_200712-201809.csv', index=False)"
   ]
  },
  {
   "cell_type": "markdown",
   "metadata": {},
   "source": [
    "### "
   ]
  },
  {
   "cell_type": "code",
   "execution_count": 25,
   "metadata": {},
   "outputs": [
    {
     "data": {
      "image/png": "[encoded data removed]",
      "text/plain": [
       "<Figure size 864x432 with 1 Axes>"
      ]
     },
     "metadata": {
      "needs_background": "light"
     },
     "output_type": "display_data"
    }
   ],
   "source": [
    "plt.figure(figsize=(12,6))\n",
    "plt.plot(df['timestamp'], df['pagecount_desktop_views'], label='pagecount_desktop')\n",
    "plt.plot(df['timestamp'], df['pagecount_mobile_views'], label='pagecount_mobile', color='orange')\n",
    "plt.plot(df['timestamp'], df['pagecount_all_views'], label='pagecount_all', color='purple')\n",
    "plt.plot(df['timestamp'], df['pageview_desktop_views'], label='pageview_desktop', color='red')\n",
    "plt.plot(df['timestamp'], df['pageview_mobile_views'], label='pageview_mobile', color='green')\n",
    "plt.plot(df['timestamp'], df['pageview_all_views'], label='pageview_all', color='olive')\n",
    "plt.title('Time Series Plot of English Wikipedia Traffic Data', fontsize=15)\n",
    "plt.xlabel('Year')\n",
    "plt.ylabel('Number of Views')\n",
    "plt.legend()\n",
    "plt.savefig('en_wiki_traffic.jpeg');"
   ]
  },
  {
   "cell_type": "code",
   "execution_count": null,
   "metadata": {},
   "outputs": [],
   "source": []
  }
 ],
 "metadata": {
  "kernelspec": {
   "display_name": "Python 3",
   "language": "python",
   "name": "python3"
  },
  "language_info": {
   "codemirror_mode": {
    "name": "ipython",
    "version": 3
   },
   "file_extension": ".py",
   "mimetype": "text/x-python",
   "name": "python",
   "nbconvert_exporter": "python",
   "pygments_lexer": "ipython3",
   "version": "3.7.1"
  }
 },
 "nbformat": 4,
 "nbformat_minor": 2
}
