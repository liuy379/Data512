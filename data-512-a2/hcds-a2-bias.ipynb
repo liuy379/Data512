{
 "cells": [
  {
   "cell_type": "markdown",
   "metadata": {},
   "source": [
    "This notebook focuses on calculating the ratio of Wikipedia politician articles counts to the country/region population, as well as the ratio of \"high quality\" Wikipedia politician articles counts to the total country/region article counts."
   ]
  },
  {
   "cell_type": "code",
   "execution_count": 1,
   "metadata": {},
   "outputs": [],
   "source": [
    "import pandas as pd\n",
    "import numpy as np\n",
    "import requests\n",
    "import json\n",
    "pd.set_option('display.max_rows', 999)"
   ]
  },
  {
   "cell_type": "code",
   "execution_count": 2,
   "metadata": {},
   "outputs": [],
   "source": [
    "df = pd.read_csv('/Users/allen/Downloads/country/data/page_data.csv')\n",
    "pop = pd.read_csv('/Users/allen/Downloads/WPDS_2018_data.csv')\n",
    "\n",
    "# page names start with 'Template' are not Wikipedia articles\n",
    "df['has_template'] = df['page'].str.find('Template')\n",
    "df = df[df.has_template == -1].reset_index(drop=True)\n",
    "df.drop(columns=['has_template'], inplace=True)\n",
    "\n",
    "headers = {'User-Agent' : 'https://github.com/liuy379', 'From' : 'liuy379@uw.edu'}"
   ]
  },
  {
   "cell_type": "code",
   "execution_count": 3,
   "metadata": {},
   "outputs": [],
   "source": [
    "def get_ores_data(revision_ids, headers):\n",
    "    \"\"\"Connect API to extract data.\"\"\"\n",
    "    endpoint = 'https://ores.wikimedia.org/v3/scores/{project}/?models={model}&revids={revids}'\n",
    "    params = {'project' : 'enwiki',\n",
    "              'model'   : 'wp10',\n",
    "              'revids'  : '|'.join(str(x) for x in revision_ids)\n",
    "              }\n",
    "    api_call = requests.get(endpoint.format(**params))\n",
    "    response = api_call.json()\n",
    "    \n",
    "    return response"
   ]
  },
  {
   "cell_type": "code",
   "execution_count": 4,
   "metadata": {},
   "outputs": [],
   "source": [
    "def extract_prediction(df):\n",
    "    \"\"\"Return dataframe of rev_ids and their predictions.\"\"\"\n",
    "    idx = np.arange(0, df.shape[0], 100).tolist()\n",
    "    output = list()\n",
    "    for i in idx:\n",
    "        ids = df['rev_id'].tolist()[i:(i+100)]\n",
    "        ores_data = get_ores_data(ids, headers)\n",
    "        for key, item in ores_data['enwiki']['scores'].items():\n",
    "            dc = dict()\n",
    "            dc['rev_id'] = key\n",
    "            if 'error' in item['wp10']:\n",
    "                dc['prediction'] = 'ERROR'\n",
    "            else:\n",
    "                dc['prediction'] = item['wp10']['score']['prediction']\n",
    "            output.append(dc)\n",
    "    \n",
    "    return pd.DataFrame(output)"
   ]
  },
  {
   "cell_type": "code",
   "execution_count": null,
   "metadata": {},
   "outputs": [],
   "source": [
    "pred = extract_prediction(df)\n",
    "\n",
    "# output the rev_ids with no prediction available\n",
    "pred[pred.prediction == 'ERROR'][['rev_id']].to_csv('revid_no_prediction.csv', index=False)\n",
    "\n",
    "# update data\n",
    "pred = pred[pred.prediction != 'ERROR']\n",
    "\n",
    "# merge data\n",
    "pred = pred.astype({'rev_id': 'int64'})\n",
    "target = df.merge(pop, how='left', left_on='country', right_on='Geography')\n",
    "\n",
    "# output data that does not have country match\n",
    "target[target.Geography.isnull()].to_csv('wp_wpds_countries-no_match.csv', index=False)\n",
    "\n",
    "# update working data\n",
    "target.dropna(inplace=True)\n",
    "\n",
    "# merge with prediction data\n",
    "target = target.merge(pred, how='left', on='rev_id')\n",
    "target.dropna(inplace=True)\n",
    "\n",
    "target.drop(columns=['Geography'], inplace=True)\n",
    "target.columns = ['article_name','country','revision_id','population','article_quality']\n",
    "target = target[['country','article_name','revision_id','article_quality','population']]\n",
    "target.to_csv('wp_wpds_politicians_by_country.csv', index=True)"
   ]
  },
  {
   "cell_type": "code",
   "execution_count": null,
   "metadata": {
    "cell_style": "center"
   },
   "outputs": [],
   "source": [
    "# manipulate data type\n",
    "pop['Population mid-2018 (millions)'] = pop['Population mid-2018 (millions)'].str.replace(',', '')\n",
    "pop = pop.astype({'Population mid-2018 (millions)':'float'})"
   ]
  },
  {
   "cell_type": "code",
   "execution_count": null,
   "metadata": {
    "cell_style": "split",
    "scrolled": false
   },
   "outputs": [],
   "source": [
    "target.head()"
   ]
  },
  {
   "cell_type": "code",
   "execution_count": null,
   "metadata": {
    "cell_style": "split"
   },
   "outputs": [],
   "source": [
    "pop.head()"
   ]
  },
  {
   "cell_type": "markdown",
   "metadata": {},
   "source": [
    "### 1. \"10 highest-ranked countries in terms of number of politician articles as a proportion of country population\""
   ]
  },
  {
   "cell_type": "code",
   "execution_count": 11,
   "metadata": {},
   "outputs": [
    {
     "data": {
      "text/html": [
       "<div>\n",
       "<style scoped>\n",
       "    .dataframe tbody tr th:only-of-type {\n",
       "        vertical-align: middle;\n",
       "    }\n",
       "\n",
       "    .dataframe tbody tr th {\n",
       "        vertical-align: top;\n",
       "    }\n",
       "\n",
       "    .dataframe thead th {\n",
       "        text-align: right;\n",
       "    }\n",
       "</style>\n",
       "<table border=\"1\" class=\"dataframe\">\n",
       "  <thead>\n",
       "    <tr style=\"text-align: right;\">\n",
       "      <th></th>\n",
       "      <th>country</th>\n",
       "      <th>article_proportion</th>\n",
       "    </tr>\n",
       "  </thead>\n",
       "  <tbody>\n",
       "    <tr>\n",
       "      <td>0</td>\n",
       "      <td>Tuvalu</td>\n",
       "      <td>0.005400</td>\n",
       "    </tr>\n",
       "    <tr>\n",
       "      <td>1</td>\n",
       "      <td>Nauru</td>\n",
       "      <td>0.005200</td>\n",
       "    </tr>\n",
       "    <tr>\n",
       "      <td>2</td>\n",
       "      <td>San Marino</td>\n",
       "      <td>0.002700</td>\n",
       "    </tr>\n",
       "    <tr>\n",
       "      <td>3</td>\n",
       "      <td>Monaco</td>\n",
       "      <td>0.001000</td>\n",
       "    </tr>\n",
       "    <tr>\n",
       "      <td>4</td>\n",
       "      <td>Liechtenstein</td>\n",
       "      <td>0.000700</td>\n",
       "    </tr>\n",
       "    <tr>\n",
       "      <td>5</td>\n",
       "      <td>Tonga</td>\n",
       "      <td>0.000630</td>\n",
       "    </tr>\n",
       "    <tr>\n",
       "      <td>6</td>\n",
       "      <td>Marshall Islands</td>\n",
       "      <td>0.000617</td>\n",
       "    </tr>\n",
       "    <tr>\n",
       "      <td>7</td>\n",
       "      <td>Iceland</td>\n",
       "      <td>0.000503</td>\n",
       "    </tr>\n",
       "    <tr>\n",
       "      <td>8</td>\n",
       "      <td>Andorra</td>\n",
       "      <td>0.000425</td>\n",
       "    </tr>\n",
       "    <tr>\n",
       "      <td>9</td>\n",
       "      <td>Grenada</td>\n",
       "      <td>0.000360</td>\n",
       "    </tr>\n",
       "  </tbody>\n",
       "</table>\n",
       "</div>"
      ],
      "text/plain": [
       "            country  article_proportion\n",
       "0            Tuvalu            0.005400\n",
       "1             Nauru            0.005200\n",
       "2        San Marino            0.002700\n",
       "3            Monaco            0.001000\n",
       "4     Liechtenstein            0.000700\n",
       "5             Tonga            0.000630\n",
       "6  Marshall Islands            0.000617\n",
       "7           Iceland            0.000503\n",
       "8           Andorra            0.000425\n",
       "9           Grenada            0.000360"
      ]
     },
     "execution_count": 11,
     "metadata": {},
     "output_type": "execute_result"
    }
   ],
   "source": [
    "d1 = target.groupby('country').agg(\n",
    "    num_article = ('revision_id', 'count'),\n",
    ").merge(pop, how='left', left_on='country', right_on='Geography')\n",
    "\n",
    "d1['article_prop'] = (d1['num_article'] / d1['Population mid-2018 (millions)']) / 1000000\n",
    "d1.drop(columns=['num_article','Population mid-2018 (millions)'], inplace=True)\n",
    "d1.columns = ['country','article_proportion']\n",
    "d1.sort_values('article_proportion', ascending=False).head(10).reset_index(drop=True)"
   ]
  },
  {
   "cell_type": "markdown",
   "metadata": {},
   "source": [
    "### 2. \"10 lowest-ranked countries in terms of number of politician articles as a proportion of country population\""
   ]
  },
  {
   "cell_type": "code",
   "execution_count": 12,
   "metadata": {},
   "outputs": [
    {
     "data": {
      "text/html": [
       "<div>\n",
       "<style scoped>\n",
       "    .dataframe tbody tr th:only-of-type {\n",
       "        vertical-align: middle;\n",
       "    }\n",
       "\n",
       "    .dataframe tbody tr th {\n",
       "        vertical-align: top;\n",
       "    }\n",
       "\n",
       "    .dataframe thead th {\n",
       "        text-align: right;\n",
       "    }\n",
       "</style>\n",
       "<table border=\"1\" class=\"dataframe\">\n",
       "  <thead>\n",
       "    <tr style=\"text-align: right;\">\n",
       "      <th></th>\n",
       "      <th>country</th>\n",
       "      <th>article_proportion</th>\n",
       "    </tr>\n",
       "  </thead>\n",
       "  <tbody>\n",
       "    <tr>\n",
       "      <td>0</td>\n",
       "      <td>India</td>\n",
       "      <td>7.146503e-07</td>\n",
       "    </tr>\n",
       "    <tr>\n",
       "      <td>1</td>\n",
       "      <td>Indonesia</td>\n",
       "      <td>7.918552e-07</td>\n",
       "    </tr>\n",
       "    <tr>\n",
       "      <td>2</td>\n",
       "      <td>China</td>\n",
       "      <td>8.107332e-07</td>\n",
       "    </tr>\n",
       "    <tr>\n",
       "      <td>3</td>\n",
       "      <td>Uzbekistan</td>\n",
       "      <td>8.510638e-07</td>\n",
       "    </tr>\n",
       "    <tr>\n",
       "      <td>4</td>\n",
       "      <td>Ethiopia</td>\n",
       "      <td>9.395349e-07</td>\n",
       "    </tr>\n",
       "    <tr>\n",
       "      <td>5</td>\n",
       "      <td>Korea, North</td>\n",
       "      <td>1.406250e-06</td>\n",
       "    </tr>\n",
       "    <tr>\n",
       "      <td>6</td>\n",
       "      <td>Zambia</td>\n",
       "      <td>1.412429e-06</td>\n",
       "    </tr>\n",
       "    <tr>\n",
       "      <td>7</td>\n",
       "      <td>Thailand</td>\n",
       "      <td>1.691843e-06</td>\n",
       "    </tr>\n",
       "    <tr>\n",
       "      <td>8</td>\n",
       "      <td>Mozambique</td>\n",
       "      <td>1.901639e-06</td>\n",
       "    </tr>\n",
       "    <tr>\n",
       "      <td>9</td>\n",
       "      <td>Bangladesh</td>\n",
       "      <td>1.917067e-06</td>\n",
       "    </tr>\n",
       "  </tbody>\n",
       "</table>\n",
       "</div>"
      ],
      "text/plain": [
       "        country  article_proportion\n",
       "0         India        7.146503e-07\n",
       "1     Indonesia        7.918552e-07\n",
       "2         China        8.107332e-07\n",
       "3    Uzbekistan        8.510638e-07\n",
       "4      Ethiopia        9.395349e-07\n",
       "5  Korea, North        1.406250e-06\n",
       "6        Zambia        1.412429e-06\n",
       "7      Thailand        1.691843e-06\n",
       "8    Mozambique        1.901639e-06\n",
       "9    Bangladesh        1.917067e-06"
      ]
     },
     "execution_count": 12,
     "metadata": {},
     "output_type": "execute_result"
    }
   ],
   "source": [
    "d1.sort_values('article_proportion', ascending=True).head(10).reset_index(drop=True)"
   ]
  },
  {
   "cell_type": "markdown",
   "metadata": {},
   "source": [
    "### 3. \"10 highest-ranked countries in terms of the relative proportion of politician articles that are of GA and FA-quality\""
   ]
  },
  {
   "cell_type": "code",
   "execution_count": 13,
   "metadata": {},
   "outputs": [
    {
     "data": {
      "text/html": [
       "<div>\n",
       "<style scoped>\n",
       "    .dataframe tbody tr th:only-of-type {\n",
       "        vertical-align: middle;\n",
       "    }\n",
       "\n",
       "    .dataframe tbody tr th {\n",
       "        vertical-align: top;\n",
       "    }\n",
       "\n",
       "    .dataframe thead th {\n",
       "        text-align: right;\n",
       "    }\n",
       "</style>\n",
       "<table border=\"1\" class=\"dataframe\">\n",
       "  <thead>\n",
       "    <tr style=\"text-align: right;\">\n",
       "      <th></th>\n",
       "      <th>proportion</th>\n",
       "    </tr>\n",
       "    <tr>\n",
       "      <th>country</th>\n",
       "      <th></th>\n",
       "    </tr>\n",
       "  </thead>\n",
       "  <tbody>\n",
       "    <tr>\n",
       "      <td>Korea, North</td>\n",
       "      <td>0.194444</td>\n",
       "    </tr>\n",
       "    <tr>\n",
       "      <td>Saudi Arabia</td>\n",
       "      <td>0.127119</td>\n",
       "    </tr>\n",
       "    <tr>\n",
       "      <td>Mauritania</td>\n",
       "      <td>0.125000</td>\n",
       "    </tr>\n",
       "    <tr>\n",
       "      <td>Central African Republic</td>\n",
       "      <td>0.121212</td>\n",
       "    </tr>\n",
       "    <tr>\n",
       "      <td>Romania</td>\n",
       "      <td>0.113703</td>\n",
       "    </tr>\n",
       "    <tr>\n",
       "      <td>Tuvalu</td>\n",
       "      <td>0.092593</td>\n",
       "    </tr>\n",
       "    <tr>\n",
       "      <td>Bhutan</td>\n",
       "      <td>0.090909</td>\n",
       "    </tr>\n",
       "    <tr>\n",
       "      <td>Dominica</td>\n",
       "      <td>0.083333</td>\n",
       "    </tr>\n",
       "    <tr>\n",
       "      <td>Syria</td>\n",
       "      <td>0.078125</td>\n",
       "    </tr>\n",
       "    <tr>\n",
       "      <td>Benin</td>\n",
       "      <td>0.076923</td>\n",
       "    </tr>\n",
       "  </tbody>\n",
       "</table>\n",
       "</div>"
      ],
      "text/plain": [
       "                          proportion\n",
       "country                             \n",
       "Korea, North                0.194444\n",
       "Saudi Arabia                0.127119\n",
       "Mauritania                  0.125000\n",
       "Central African Republic    0.121212\n",
       "Romania                     0.113703\n",
       "Tuvalu                      0.092593\n",
       "Bhutan                      0.090909\n",
       "Dominica                    0.083333\n",
       "Syria                       0.078125\n",
       "Benin                       0.076923"
      ]
     },
     "execution_count": 13,
     "metadata": {},
     "output_type": "execute_result"
    }
   ],
   "source": [
    "d2 = target.groupby('country').agg(\n",
    "    num_quality = ('article_quality', lambda x: sum(x.isin(['FA','GA']))),\n",
    "    num_article = ('country', 'count')\n",
    ")\n",
    "d2['proportion'] = d2.apply(lambda x: x.num_quality / x.num_article, axis=1)\n",
    "d2[['proportion']].sort_values('proportion', ascending=False).head(10)"
   ]
  },
  {
   "cell_type": "markdown",
   "metadata": {},
   "source": [
    "### 4. \"10 lowest-ranked countries in terms of the relative proportion of politician articles that are of GA and FA-quality\" these countries do not have GA and FA-quality articles at all"
   ]
  },
  {
   "cell_type": "code",
   "execution_count": 22,
   "metadata": {},
   "outputs": [
    {
     "data": {
      "text/plain": [
       "Index(['Andorra', 'Angola', 'Antigua and Barbuda', 'Bahamas', 'Barbados',\n",
       "       'Belize', 'Cameroon', 'Cape Verde', 'Comoros', 'Costa Rica', 'Djibouti',\n",
       "       'Eritrea', 'Estonia', 'Federated States of Micronesia', 'Finland',\n",
       "       'Guyana', 'Kazakhstan', 'Kiribati', 'Lesotho', 'Liechtenstein',\n",
       "       'Macedonia', 'Malta', 'Marshall Islands', 'Moldova', 'Monaco',\n",
       "       'Mozambique', 'Namibia', 'Nauru', 'San Marino', 'Sao Tome and Principe',\n",
       "       'Seychelles', 'Slovakia', 'Solomon Islands', 'Tonga', 'Tunisia',\n",
       "       'Turkmenistan', 'Uganda', 'Zambia'],\n",
       "      dtype='object', name='country')"
      ]
     },
     "execution_count": 22,
     "metadata": {},
     "output_type": "execute_result"
    }
   ],
   "source": [
    "# these countries do not have any high quality Wiki politician article\n",
    "d2[d2.num_quality == 0].index"
   ]
  },
  {
   "cell_type": "code",
   "execution_count": 23,
   "metadata": {},
   "outputs": [
    {
     "data": {
      "text/html": [
       "<div>\n",
       "<style scoped>\n",
       "    .dataframe tbody tr th:only-of-type {\n",
       "        vertical-align: middle;\n",
       "    }\n",
       "\n",
       "    .dataframe tbody tr th {\n",
       "        vertical-align: top;\n",
       "    }\n",
       "\n",
       "    .dataframe thead th {\n",
       "        text-align: right;\n",
       "    }\n",
       "</style>\n",
       "<table border=\"1\" class=\"dataframe\">\n",
       "  <thead>\n",
       "    <tr style=\"text-align: right;\">\n",
       "      <th></th>\n",
       "      <th>proportion</th>\n",
       "    </tr>\n",
       "    <tr>\n",
       "      <th>country</th>\n",
       "      <th></th>\n",
       "    </tr>\n",
       "  </thead>\n",
       "  <tbody>\n",
       "    <tr>\n",
       "      <td>Belgium</td>\n",
       "      <td>0.001923</td>\n",
       "    </tr>\n",
       "    <tr>\n",
       "      <td>Tanzania</td>\n",
       "      <td>0.002469</td>\n",
       "    </tr>\n",
       "    <tr>\n",
       "      <td>Switzerland</td>\n",
       "      <td>0.002488</td>\n",
       "    </tr>\n",
       "    <tr>\n",
       "      <td>Nepal</td>\n",
       "      <td>0.002801</td>\n",
       "    </tr>\n",
       "    <tr>\n",
       "      <td>Peru</td>\n",
       "      <td>0.002857</td>\n",
       "    </tr>\n",
       "    <tr>\n",
       "      <td>Nigeria</td>\n",
       "      <td>0.002954</td>\n",
       "    </tr>\n",
       "    <tr>\n",
       "      <td>Colombia</td>\n",
       "      <td>0.003509</td>\n",
       "    </tr>\n",
       "    <tr>\n",
       "      <td>Lithuania</td>\n",
       "      <td>0.004098</td>\n",
       "    </tr>\n",
       "    <tr>\n",
       "      <td>Fiji</td>\n",
       "      <td>0.005076</td>\n",
       "    </tr>\n",
       "    <tr>\n",
       "      <td>Azerbaijan</td>\n",
       "      <td>0.005587</td>\n",
       "    </tr>\n",
       "  </tbody>\n",
       "</table>\n",
       "</div>"
      ],
      "text/plain": [
       "             proportion\n",
       "country                \n",
       "Belgium        0.001923\n",
       "Tanzania       0.002469\n",
       "Switzerland    0.002488\n",
       "Nepal          0.002801\n",
       "Peru           0.002857\n",
       "Nigeria        0.002954\n",
       "Colombia       0.003509\n",
       "Lithuania      0.004098\n",
       "Fiji           0.005076\n",
       "Azerbaijan     0.005587"
      ]
     },
     "execution_count": 23,
     "metadata": {},
     "output_type": "execute_result"
    }
   ],
   "source": [
    "# after excluding the above ones, these are the 10 lowest-ranked countries\n",
    "d2[d2.proportion != 0][['proportion']].sort_values('proportion', ascending=True).head(10)"
   ]
  },
  {
   "cell_type": "markdown",
   "metadata": {},
   "source": [
    "### 5. \"Ranking of geographic regions (in descending order) in terms of the total count of politician articles from countries in each region as a proportion of total regional population\""
   ]
  },
  {
   "cell_type": "code",
   "execution_count": 15,
   "metadata": {},
   "outputs": [],
   "source": [
    "def generate_region_col(pop):\n",
    "    region_idx = pop.index[pop.Geography.str.isupper()].tolist()\n",
    "    region_name = pop.Geography[region_idx].tolist()\n",
    "    region_name = [[x] for x in region_name]\n",
    "    region_idx.append(pop.shape[0])\n",
    "    rep_times = [region_idx[i + 1] - region_idx[i] for i in range(len(region_idx)-1)]\n",
    "    ls = [region_name[i] * rep_times[i] for i in range(len(rep_times))]\n",
    "    ls = [y for x in ls for y in x]\n",
    "    \n",
    "    return ls"
   ]
  },
  {
   "cell_type": "code",
   "execution_count": 25,
   "metadata": {},
   "outputs": [
    {
     "data": {
      "text/html": [
       "<div>\n",
       "<style scoped>\n",
       "    .dataframe tbody tr th:only-of-type {\n",
       "        vertical-align: middle;\n",
       "    }\n",
       "\n",
       "    .dataframe tbody tr th {\n",
       "        vertical-align: top;\n",
       "    }\n",
       "\n",
       "    .dataframe thead th {\n",
       "        text-align: right;\n",
       "    }\n",
       "</style>\n",
       "<table border=\"1\" class=\"dataframe\">\n",
       "  <thead>\n",
       "    <tr style=\"text-align: right;\">\n",
       "      <th></th>\n",
       "      <th>proportion</th>\n",
       "    </tr>\n",
       "    <tr>\n",
       "      <th>region</th>\n",
       "      <th></th>\n",
       "    </tr>\n",
       "  </thead>\n",
       "  <tbody>\n",
       "    <tr>\n",
       "      <td>OCEANIA</td>\n",
       "      <td>0.000079</td>\n",
       "    </tr>\n",
       "    <tr>\n",
       "      <td>EUROPE</td>\n",
       "      <td>0.000022</td>\n",
       "    </tr>\n",
       "    <tr>\n",
       "      <td>LATIN AMERICA AND THE CARIBBEAN</td>\n",
       "      <td>0.000008</td>\n",
       "    </tr>\n",
       "    <tr>\n",
       "      <td>AFRICA</td>\n",
       "      <td>0.000006</td>\n",
       "    </tr>\n",
       "    <tr>\n",
       "      <td>NORTHERN AMERICA</td>\n",
       "      <td>0.000005</td>\n",
       "    </tr>\n",
       "    <tr>\n",
       "      <td>ASIA</td>\n",
       "      <td>0.000003</td>\n",
       "    </tr>\n",
       "  </tbody>\n",
       "</table>\n",
       "</div>"
      ],
      "text/plain": [
       "                                 proportion\n",
       "region                                     \n",
       "OCEANIA                            0.000079\n",
       "EUROPE                             0.000022\n",
       "LATIN AMERICA AND THE CARIBBEAN    0.000008\n",
       "AFRICA                             0.000006\n",
       "NORTHERN AMERICA                   0.000005\n",
       "ASIA                               0.000003"
      ]
     },
     "execution_count": 25,
     "metadata": {},
     "output_type": "execute_result"
    }
   ],
   "source": [
    "pop['region'] = generate_region_col(pop)\n",
    "\n",
    "d3 = target.groupby('country').agg(\n",
    "    num_article = ('revision_id', 'count'),\n",
    ").merge(pop, how='left', left_on='country', right_on='Geography')\n",
    "\n",
    "d3 = d3.groupby('region').agg(\n",
    "    total_article = ('num_article', 'sum'),\n",
    "    total_population_million = ('Population mid-2018 (millions)', 'sum')\n",
    ")\n",
    "\n",
    "d3['proportion'] = d3.apply(lambda x: x.total_article / (x.total_population * 1000000), axis=1)\n",
    "d3.sort_values('proportion', ascending=False)[['proportion']]"
   ]
  },
  {
   "cell_type": "markdown",
   "metadata": {},
   "source": [
    "### 6. \"Ranking of geographic regions (in descending order) in terms of the relative proportion of politician articles from countries in each region that are of GA and FA-quality\""
   ]
  },
  {
   "cell_type": "code",
   "execution_count": 26,
   "metadata": {},
   "outputs": [
    {
     "data": {
      "text/html": [
       "<div>\n",
       "<style scoped>\n",
       "    .dataframe tbody tr th:only-of-type {\n",
       "        vertical-align: middle;\n",
       "    }\n",
       "\n",
       "    .dataframe tbody tr th {\n",
       "        vertical-align: top;\n",
       "    }\n",
       "\n",
       "    .dataframe thead th {\n",
       "        text-align: right;\n",
       "    }\n",
       "</style>\n",
       "<table border=\"1\" class=\"dataframe\">\n",
       "  <thead>\n",
       "    <tr style=\"text-align: right;\">\n",
       "      <th></th>\n",
       "      <th>proportion</th>\n",
       "    </tr>\n",
       "    <tr>\n",
       "      <th>region</th>\n",
       "      <th></th>\n",
       "    </tr>\n",
       "  </thead>\n",
       "  <tbody>\n",
       "    <tr>\n",
       "      <td>NORTHERN AMERICA</td>\n",
       "      <td>0.051536</td>\n",
       "    </tr>\n",
       "    <tr>\n",
       "      <td>ASIA</td>\n",
       "      <td>0.026884</td>\n",
       "    </tr>\n",
       "    <tr>\n",
       "      <td>OCEANIA</td>\n",
       "      <td>0.021100</td>\n",
       "    </tr>\n",
       "    <tr>\n",
       "      <td>EUROPE</td>\n",
       "      <td>0.020298</td>\n",
       "    </tr>\n",
       "    <tr>\n",
       "      <td>AFRICA</td>\n",
       "      <td>0.018246</td>\n",
       "    </tr>\n",
       "    <tr>\n",
       "      <td>LATIN AMERICA AND THE CARIBBEAN</td>\n",
       "      <td>0.013349</td>\n",
       "    </tr>\n",
       "  </tbody>\n",
       "</table>\n",
       "</div>"
      ],
      "text/plain": [
       "                                 proportion\n",
       "region                                     \n",
       "NORTHERN AMERICA                   0.051536\n",
       "ASIA                               0.026884\n",
       "OCEANIA                            0.021100\n",
       "EUROPE                             0.020298\n",
       "AFRICA                             0.018246\n",
       "LATIN AMERICA AND THE CARIBBEAN    0.013349"
      ]
     },
     "execution_count": 26,
     "metadata": {},
     "output_type": "execute_result"
    }
   ],
   "source": [
    "d4 = target.groupby('country').agg(\n",
    "    num_quality = ('article_quality', lambda x: sum(x.isin(['FA','GA']))),\n",
    "    num_article = ('country', 'count')\n",
    ").merge(pop, how='left', left_on='country', right_on='Geography')\n",
    "\n",
    "d4 = d4.groupby('region').agg(\n",
    "    total_quality_article = ('num_quality', 'sum'),\n",
    "    total_article = ('num_article', 'sum')\n",
    ")\n",
    "d4['proportion'] = d4.apply(lambda x: x.total_quality_article/x.total_article, axis=1)\n",
    "\n",
    "d4.sort_values('proportion', ascending=False)[['proportion']]"
   ]
  },
  {
   "cell_type": "code",
   "execution_count": null,
   "metadata": {},
   "outputs": [],
   "source": []
  }
 ],
 "metadata": {
  "kernelspec": {
   "display_name": "Python 3",
   "language": "python",
   "name": "python3"
  },
  "language_info": {
   "codemirror_mode": {
    "name": "ipython",
    "version": 3
   },
   "file_extension": ".py",
   "mimetype": "text/x-python",
   "name": "python",
   "nbconvert_exporter": "python",
   "pygments_lexer": "ipython3",
   "version": "3.7.4"
  }
 },
 "nbformat": 4,
 "nbformat_minor": 2
}
