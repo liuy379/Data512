{
 "cells": [
  {
   "cell_type": "code",
   "execution_count": null,
   "metadata": {
    "scrolled": true
   },
   "outputs": [
    {
     "name": "stdout",
     "output_type": "stream",
     "text": [
      "Once deleted, variables cannot be recovered. Proceed (y/[n])? y\n"
     ]
    }
   ],
   "source": [
    "%reset"
   ]
  },
  {
   "cell_type": "markdown",
   "metadata": {},
   "source": [
    "# Call data"
   ]
  },
  {
   "cell_type": "code",
   "execution_count": 1,
   "metadata": {},
   "outputs": [],
   "source": [
    "import pandas as pd\n",
    "import numpy as np\n",
    "import matplotlib.pyplot as plt\n",
    "pd.options.display.max_rows = 999"
   ]
  },
  {
   "cell_type": "code",
   "execution_count": 2,
   "metadata": {},
   "outputs": [],
   "source": [
    "df = pd.read_csv('/Users/allen/Downloads/call_data.csv')\n",
    "\n",
    "# column Arrived Time ends with :000 which needs to be removed\n",
    "df['Arrived Time'] = df['Arrived Time'].str.replace(':000', '')"
   ]
  },
  {
   "cell_type": "code",
   "execution_count": 4,
   "metadata": {},
   "outputs": [
    {
     "name": "stdout",
     "output_type": "stream",
     "text": [
      "CPU times: user 7min 20s, sys: 1.83 s, total: 7min 22s\n",
      "Wall time: 7min 25s\n"
     ]
    }
   ],
   "source": [
    "%%time\n",
    "# change datatype to datetime\n",
    "df['Arrived Time'] = pd.to_datetime(df['Arrived Time'])"
   ]
  },
  {
   "cell_type": "code",
   "execution_count": 5,
   "metadata": {},
   "outputs": [
    {
     "name": "stdout",
     "output_type": "stream",
     "text": [
      "CPU times: user 6min 53s, sys: 2.7 s, total: 6min 55s\n",
      "Wall time: 7min 1s\n"
     ]
    }
   ],
   "source": [
    "%%time\n",
    "# change datatype to datetime\n",
    "df['Original Time Queued'] = pd.to_datetime(df['Original Time Queued'])"
   ]
  },
  {
   "cell_type": "code",
   "execution_count": 8,
   "metadata": {
    "scrolled": true
   },
   "outputs": [],
   "source": [
    "# Calculate respnse time (minute)\n",
    "df['response_time'] = (df['Arrived Time'] - df['Original Time Queued']) / np.timedelta64(1,'m')\n",
    "df['response_time'] = df['response_time'].apply(lambda x: round(x, ndigits=2))\n",
    "\n",
    "# filter unuseful response time\n",
    "df = df[(df['response_time'] > 1) & (df['response_time'] < 60)]\n",
    "\n",
    "# create year month to aggregate\n",
    "df['YearMonth'] = pd.to_datetime(df['Original Time Queued'].map(lambda x: str(x.year) + '-' + str(x.month)))\n",
    "\n",
    "# output filtered data\n",
    "df.to_csv('/Users/allen/Documents/Data_512/Data/call_data_filtered.csv', index=False)\n",
    "\n",
    "df['Year'] = df['YearMonth'].dt.year\n",
    "\n",
    "beat_agg = df.groupby(['Year','Beat']).agg(\n",
    "    crime_counts = ('response_time', 'count'),\n",
    "    avg_response_time = ('response_time', 'mean')\n",
    ").sort_values('avg_response_time').reset_index()"
   ]
  },
  {
   "cell_type": "code",
   "execution_count": 41,
   "metadata": {},
   "outputs": [
    {
     "data": {
      "text/html": [
       "<div>\n",
       "<style scoped>\n",
       "    .dataframe tbody tr th:only-of-type {\n",
       "        vertical-align: middle;\n",
       "    }\n",
       "\n",
       "    .dataframe tbody tr th {\n",
       "        vertical-align: top;\n",
       "    }\n",
       "\n",
       "    .dataframe thead th {\n",
       "        text-align: right;\n",
       "    }\n",
       "</style>\n",
       "<table border=\"1\" class=\"dataframe\">\n",
       "  <thead>\n",
       "    <tr style=\"text-align: right;\">\n",
       "      <th></th>\n",
       "      <th>Year</th>\n",
       "      <th>Beat</th>\n",
       "      <th>crime_counts</th>\n",
       "      <th>avg_response_time</th>\n",
       "    </tr>\n",
       "  </thead>\n",
       "  <tbody>\n",
       "    <tr>\n",
       "      <td>0</td>\n",
       "      <td>2010</td>\n",
       "      <td>CC</td>\n",
       "      <td>1</td>\n",
       "      <td>1.07</td>\n",
       "    </tr>\n",
       "    <tr>\n",
       "      <td>1</td>\n",
       "      <td>2014</td>\n",
       "      <td>SD</td>\n",
       "      <td>1</td>\n",
       "      <td>1.12</td>\n",
       "    </tr>\n",
       "    <tr>\n",
       "      <td>2</td>\n",
       "      <td>2018</td>\n",
       "      <td>DSPVD</td>\n",
       "      <td>1</td>\n",
       "      <td>1.25</td>\n",
       "    </tr>\n",
       "    <tr>\n",
       "      <td>3</td>\n",
       "      <td>2014</td>\n",
       "      <td>HBR</td>\n",
       "      <td>1</td>\n",
       "      <td>1.32</td>\n",
       "    </tr>\n",
       "    <tr>\n",
       "      <td>4</td>\n",
       "      <td>2012</td>\n",
       "      <td>CMD4</td>\n",
       "      <td>1</td>\n",
       "      <td>1.48</td>\n",
       "    </tr>\n",
       "  </tbody>\n",
       "</table>\n",
       "</div>"
      ],
      "text/plain": [
       "   Year   Beat  crime_counts  avg_response_time\n",
       "0  2010     CC             1               1.07\n",
       "1  2014     SD             1               1.12\n",
       "2  2018  DSPVD             1               1.25\n",
       "3  2014    HBR             1               1.32\n",
       "4  2012   CMD4             1               1.48"
      ]
     },
     "execution_count": 41,
     "metadata": {},
     "output_type": "execute_result"
    }
   ],
   "source": [
    "beat_agg.head()"
   ]
  },
  {
   "cell_type": "code",
   "execution_count": 42,
   "metadata": {},
   "outputs": [],
   "source": [
    "beat_agg.to_csv('/Users/allen/Documents/Data_512/Data/beat_cc_resp_time.csv', index=False)"
   ]
  },
  {
   "cell_type": "markdown",
   "metadata": {},
   "source": [
    "# Crime data"
   ]
  },
  {
   "cell_type": "code",
   "execution_count": 1,
   "metadata": {},
   "outputs": [],
   "source": [
    "import pandas as pd\n",
    "import numpy as np\n",
    "import matplotlib.pyplot as plt\n",
    "pd.options.display.max_rows = 999"
   ]
  },
  {
   "cell_type": "code",
   "execution_count": 43,
   "metadata": {
    "scrolled": true
   },
   "outputs": [],
   "source": [
    "df = pd.read_csv('/Users/allen/Downloads/crime_data.csv')\n",
    "\n",
    "df.dropna(inplace=True)\n",
    "\n",
    "# need datetime to extract year info\n",
    "df['Year'] = pd.to_datetime(df['Occ Date']).dt.year\n",
    "\n",
    "# calculate crime aggregates\n",
    "crime_agg = df.groupby(['Year','BEAT','Crime Group','Crime Category']).agg(\n",
    "    crime_counts = ('Definition', 'count')\n",
    ").reset_index()"
   ]
  },
  {
   "cell_type": "code",
   "execution_count": 45,
   "metadata": {},
   "outputs": [
    {
     "data": {
      "text/html": [
       "<div>\n",
       "<style scoped>\n",
       "    .dataframe tbody tr th:only-of-type {\n",
       "        vertical-align: middle;\n",
       "    }\n",
       "\n",
       "    .dataframe tbody tr th {\n",
       "        vertical-align: top;\n",
       "    }\n",
       "\n",
       "    .dataframe thead th {\n",
       "        text-align: right;\n",
       "    }\n",
       "</style>\n",
       "<table border=\"1\" class=\"dataframe\">\n",
       "  <thead>\n",
       "    <tr style=\"text-align: right;\">\n",
       "      <th></th>\n",
       "      <th>Year</th>\n",
       "      <th>BEAT</th>\n",
       "      <th>Crime Group</th>\n",
       "      <th>Crime Category</th>\n",
       "      <th>crime_counts</th>\n",
       "    </tr>\n",
       "  </thead>\n",
       "  <tbody>\n",
       "    <tr>\n",
       "      <td>0</td>\n",
       "      <td>2008</td>\n",
       "      <td>B1</td>\n",
       "      <td>Person Crime</td>\n",
       "      <td>Aggravated Assault</td>\n",
       "      <td>23</td>\n",
       "    </tr>\n",
       "    <tr>\n",
       "      <td>1</td>\n",
       "      <td>2008</td>\n",
       "      <td>B1</td>\n",
       "      <td>Person Crime</td>\n",
       "      <td>Homicide</td>\n",
       "      <td>1</td>\n",
       "    </tr>\n",
       "    <tr>\n",
       "      <td>2</td>\n",
       "      <td>2008</td>\n",
       "      <td>B1</td>\n",
       "      <td>Person Crime</td>\n",
       "      <td>Rape</td>\n",
       "      <td>2</td>\n",
       "    </tr>\n",
       "    <tr>\n",
       "      <td>3</td>\n",
       "      <td>2008</td>\n",
       "      <td>B1</td>\n",
       "      <td>Person Crime</td>\n",
       "      <td>Robbery</td>\n",
       "      <td>20</td>\n",
       "    </tr>\n",
       "    <tr>\n",
       "      <td>4</td>\n",
       "      <td>2008</td>\n",
       "      <td>B1</td>\n",
       "      <td>Property Crime</td>\n",
       "      <td>Burglary</td>\n",
       "      <td>127</td>\n",
       "    </tr>\n",
       "  </tbody>\n",
       "</table>\n",
       "</div>"
      ],
      "text/plain": [
       "   Year BEAT     Crime Group      Crime Category  crime_counts\n",
       "0  2008   B1    Person Crime  Aggravated Assault            23\n",
       "1  2008   B1    Person Crime            Homicide             1\n",
       "2  2008   B1    Person Crime                Rape             2\n",
       "3  2008   B1    Person Crime             Robbery            20\n",
       "4  2008   B1  Property Crime            Burglary           127"
      ]
     },
     "execution_count": 45,
     "metadata": {},
     "output_type": "execute_result"
    }
   ],
   "source": [
    "crime_agg.head()"
   ]
  },
  {
   "cell_type": "code",
   "execution_count": 46,
   "metadata": {},
   "outputs": [],
   "source": [
    "crime_agg.to_csv('/Users/allen/Documents/Data_512/Data/crime_data_agg.csv', index=False)"
   ]
  },
  {
   "cell_type": "code",
   "execution_count": null,
   "metadata": {},
   "outputs": [],
   "source": []
  }
 ],
 "metadata": {
  "kernelspec": {
   "display_name": "Python 3",
   "language": "python",
   "name": "python3"
  },
  "language_info": {
   "codemirror_mode": {
    "name": "ipython",
    "version": 3
   },
   "file_extension": ".py",
   "mimetype": "text/x-python",
   "name": "python",
   "nbconvert_exporter": "python",
   "pygments_lexer": "ipython3",
   "version": "3.7.4"
  }
 },
 "nbformat": 4,
 "nbformat_minor": 2
}
