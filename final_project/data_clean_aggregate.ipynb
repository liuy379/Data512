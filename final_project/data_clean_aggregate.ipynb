{
 "cells": [
  {
   "cell_type": "markdown",
   "metadata": {},
   "source": [
    "# Call data"
   ]
  },
  {
   "cell_type": "code",
   "execution_count": 1,
   "metadata": {},
   "outputs": [],
   "source": [
    "import pandas as pd\n",
    "import numpy as np\n",
    "import matplotlib.pyplot as plt\n",
    "pd.options.display.max_rows = 999"
   ]
  },
  {
   "cell_type": "code",
   "execution_count": 2,
   "metadata": {},
   "outputs": [],
   "source": [
    "df = pd.read_csv('/Users/allen/Downloads/call_data.csv')\n",
    "\n",
    "# column Arrived Time ends with :000 which needs to be removed\n",
    "df['Arrived Time'] = df['Arrived Time'].str.replace(':000', '')"
   ]
  },
  {
   "cell_type": "code",
   "execution_count": 4,
   "metadata": {},
   "outputs": [
    {
     "name": "stdout",
     "output_type": "stream",
     "text": [
      "CPU times: user 7min 20s, sys: 1.83 s, total: 7min 22s\n",
      "Wall time: 7min 25s\n"
     ]
    }
   ],
   "source": [
    "%%time\n",
    "# change datatype to datetime\n",
    "df['Arrived Time'] = pd.to_datetime(df['Arrived Time'])"
   ]
  },
  {
   "cell_type": "code",
   "execution_count": 5,
   "metadata": {},
   "outputs": [
    {
     "name": "stdout",
     "output_type": "stream",
     "text": [
      "CPU times: user 6min 53s, sys: 2.7 s, total: 6min 55s\n",
      "Wall time: 7min 1s\n"
     ]
    }
   ],
   "source": [
    "%%time\n",
    "# change datatype to datetime\n",
    "df['Original Time Queued'] = pd.to_datetime(df['Original Time Queued'])"
   ]
  },
  {
   "cell_type": "code",
   "execution_count": 8,
   "metadata": {
    "scrolled": true
   },
   "outputs": [],
   "source": [
    "# Calculate respnse time (minute)\n",
    "df['response_time'] = (df['Arrived Time'] - df['Original Time Queued']) / np.timedelta64(1,'m')\n",
    "df['response_time'] = df['response_time'].apply(lambda x: round(x, ndigits=2))\n",
    "\n",
    "# filter unuseful response time\n",
    "df = df[(df['response_time'] > 1) & (df['response_time'] < 60)]\n",
    "\n",
    "# create year month to aggregate\n",
    "df['YearMonth'] = pd.to_datetime(df['Original Time Queued'].map(lambda x: str(x.year) + '-' + str(x.month)))\n",
    "\n",
    "# output filtered data\n",
    "df.to_csv('/Users/allen/Documents/Data_512/Data/call_data_filtered.csv', index=False)"
   ]
  },
  {
   "cell_type": "code",
   "execution_count": 42,
   "metadata": {},
   "outputs": [],
   "source": [
    "# extract year\n",
    "df['Year'] = df['YearMonth'].dt.year\n",
    "\n",
    "# aggregate response time on beats\n",
    "beat_agg = df.groupby(['Year','Beat']).agg(\n",
    "    crime_counts = ('response_time', 'count'),\n",
    "    avg_response_time = ('response_time', 'mean')\n",
    ").sort_values('avg_response_time').reset_index()\n",
    "\n",
    "# output result\n",
    "beat_agg.to_csv('/Users/allen/Documents/Data_512/Data/beat_cc_resp_time.csv', index=False)"
   ]
  },
  {
   "cell_type": "markdown",
   "metadata": {},
   "source": [
    "# Crime data"
   ]
  },
  {
   "cell_type": "code",
   "execution_count": 1,
   "metadata": {},
   "outputs": [],
   "source": [
    "import pandas as pd\n",
    "import numpy as np\n",
    "import matplotlib.pyplot as plt\n",
    "pd.options.display.max_rows = 999"
   ]
  },
  {
   "cell_type": "code",
   "execution_count": 43,
   "metadata": {
    "scrolled": true
   },
   "outputs": [],
   "source": [
    "df = pd.read_csv('/Users/allen/Downloads/crime_data.csv')\n",
    "\n",
    "# drop NAs\n",
    "df.dropna(inplace=True)\n",
    "\n",
    "# need datetime to extract year info\n",
    "df['Year'] = pd.to_datetime(df['Occ Date']).dt.year\n",
    "\n",
    "# calculate crime aggregates\n",
    "crime_agg = df.groupby(['Year','BEAT','Crime Group','Crime Category']).agg(\n",
    "    crime_counts = ('Definition', 'count')\n",
    ").reset_index()\n",
    "\n",
    "# output result\n",
    "crime_agg.to_csv('/Users/allen/Documents/Data_512/Data/crime_data_agg.csv', index=False)"
   ]
  },
  {
   "cell_type": "code",
   "execution_count": null,
   "metadata": {},
   "outputs": [],
   "source": []
  }
 ],
 "metadata": {
  "kernelspec": {
   "display_name": "Python 3",
   "language": "python",
   "name": "python3"
  },
  "language_info": {
   "codemirror_mode": {
    "name": "ipython",
    "version": 3
   },
   "file_extension": ".py",
   "mimetype": "text/x-python",
   "name": "python",
   "nbconvert_exporter": "python",
   "pygments_lexer": "ipython3",
   "version": "3.7.4"
  }
 },
 "nbformat": 4,
 "nbformat_minor": 2
}
