{
 "cells": [
  {
   "cell_type": "code",
   "execution_count": 1,
   "metadata": {},
   "outputs": [],
   "source": [
    "import utils\n",
    "import math\n",
    "import pandas as pd\n",
    "import numpy as np\n",
    "import matplotlib.pyplot as plt\n",
    "from pandas.tseries.holiday import USFederalHolidayCalendar as calendar"
   ]
  },
  {
   "cell_type": "code",
   "execution_count": 2,
   "metadata": {},
   "outputs": [],
   "source": [
    "df = pd.read_csv('/Users/allen/Documents/data_512/Data/call_data_filtered.csv')\n",
    "\n",
    "# make YearMonth datetime type\n",
    "df['Original Time Queued'] = pd.to_datetime(df['Original Time Queued'])\n",
    "\n",
    "# filter priority 9 for this project\n",
    "df = df[df['Priority'] != 9]\n",
    "\n",
    "# filter precinct that is UNKNOWN\n",
    "df = df[df['Precinct'] != 'UNKNOWN']"
   ]
  },
  {
   "cell_type": "markdown",
   "metadata": {},
   "source": [
    "# Features"
   ]
  },
  {
   "cell_type": "code",
   "execution_count": 3,
   "metadata": {},
   "outputs": [],
   "source": [
    "# copy original data\n",
    "ds = df.copy()"
   ]
  },
  {
   "cell_type": "code",
   "execution_count": 4,
   "metadata": {},
   "outputs": [],
   "source": [
    "# feature engineering\n",
    "ds['Call_Hour'] = ds['Original Time Queued'].dt.hour\n",
    "ds['Call_Weekday'] = ds['Original Time Queued'].dt.weekday\n",
    "ds['Call_Hour_Bin'] = ds['Call_Hour'].apply(utils.create_hour_bin)\n",
    "\n",
    "# extract holiday info\n",
    "cal = calendar()\n",
    "holidays = cal.holidays(start=ds['Original Time Queued'].min(), end=ds['Original Time Queued'].max())\n",
    "ds['is_Holiday'] = ds['Original Time Queued'].dt.date.isin(pd.Series(holidays).dt.date).astype(int)\n",
    "\n",
    "# encoding\n",
    "ds = ds[['Call Type','Priority','Precinct','Sector','response_time','Call_Weekday','Call_Hour_Bin','is_Holiday']]\n",
    "ds = pd.get_dummies(ds, \n",
    "               columns=['Call Type','Priority','Precinct','Sector','Call_Weekday','Call_Hour_Bin'],\n",
    "               prefix=['Call_Type','Priority','Precinct','Sector','Call_Weekday','Call_Hour_Bin'])"
   ]
  },
  {
   "cell_type": "markdown",
   "metadata": {},
   "source": [
    "# Train and Validation"
   ]
  },
  {
   "cell_type": "code",
   "execution_count": 5,
   "metadata": {},
   "outputs": [],
   "source": [
    "from sklearn.model_selection import train_test_split\n",
    "X_train, X_val, y_train, y_val = train_test_split(ds.drop(columns=['response_time']),\n",
    "                                                  ds['response_time'],\n",
    "                                                  test_size=0.2, \n",
    "                                                  random_state=10)"
   ]
  },
  {
   "cell_type": "markdown",
   "metadata": {},
   "source": [
    "# Xgboost"
   ]
  },
  {
   "cell_type": "code",
   "execution_count": 6,
   "metadata": {},
   "outputs": [],
   "source": [
    "import xgboost as xgb\n",
    "\n",
    "# prepare data\n",
    "dtrain = xgb.DMatrix(X_train, label=y_train.to_numpy())\n",
    "dval = xgb.DMatrix(X_val, label=y_val.to_numpy())\n",
    "\n",
    "# paramaters options\n",
    "param = {\n",
    "    'objective': 'reg:squarederror',\n",
    "    'eva_metric': 'rmse',\n",
    "    'eta': 0.1,\n",
    "    'subsample': 0.8,\n",
    "    'colsample': 0.8,\n",
    "    'max_depth': 6\n",
    "}\n",
    "\n",
    "# set number of trees to grow\n",
    "num_round = 200\n",
    "\n",
    "# specify validations set to watch performance\n",
    "watchlist = [(dtrain, 'train'), (dval, 'eval')]"
   ]
  },
  {
   "cell_type": "code",
   "execution_count": 7,
   "metadata": {
    "scrolled": true
   },
   "outputs": [
    {
     "name": "stdout",
     "output_type": "stream",
     "text": [
      "[0]\ttrain-rmse:20.1529\teval-rmse:20.1737\n",
      "Multiple eval metrics have been passed: 'eval-rmse' will be used for early stopping.\n",
      "\n",
      "Will train until eval-rmse hasn't improved in 10 rounds.\n",
      "[10]\ttrain-rmse:14.2363\teval-rmse:14.2536\n",
      "[20]\ttrain-rmse:13.3231\teval-rmse:13.3371\n",
      "[30]\ttrain-rmse:13.1977\teval-rmse:13.2113\n",
      "[40]\ttrain-rmse:13.1731\teval-rmse:13.1877\n",
      "[50]\ttrain-rmse:13.1645\teval-rmse:13.1807\n",
      "[60]\ttrain-rmse:13.1597\teval-rmse:13.1774\n",
      "[70]\ttrain-rmse:13.1563\teval-rmse:13.1752\n",
      "[80]\ttrain-rmse:13.1538\teval-rmse:13.174\n",
      "[90]\ttrain-rmse:13.1516\teval-rmse:13.1732\n",
      "[100]\ttrain-rmse:13.1498\teval-rmse:13.1728\n",
      "[110]\ttrain-rmse:13.1482\teval-rmse:13.1722\n",
      "[120]\ttrain-rmse:13.1465\teval-rmse:13.1719\n",
      "[130]\ttrain-rmse:13.1449\teval-rmse:13.1715\n",
      "[140]\ttrain-rmse:13.1437\teval-rmse:13.1712\n",
      "[150]\ttrain-rmse:13.1426\teval-rmse:13.1709\n",
      "[160]\ttrain-rmse:13.1415\teval-rmse:13.1711\n",
      "Stopping. Best iteration:\n",
      "[154]\ttrain-rmse:13.142\teval-rmse:13.1709\n",
      "\n"
     ]
    }
   ],
   "source": [
    "# train gradient boosting modol\n",
    "bst = xgb.train(param, \n",
    "                dtrain, \n",
    "                num_round,\n",
    "                watchlist,\n",
    "                early_stopping_rounds=10,\n",
    "                verbose_eval=10)"
   ]
  },
  {
   "cell_type": "code",
   "execution_count": 8,
   "metadata": {},
   "outputs": [],
   "source": [
    "# extract feature importance\n",
    "imp = pd.DataFrame.from_dict(bst.get_score(importance_type='gain'), orient='index', columns=['feature']) \\\n",
    "    .sort_values('feature', ascending=False)"
   ]
  },
  {
   "cell_type": "code",
   "execution_count": 9,
   "metadata": {},
   "outputs": [
    {
     "data": {
      "image/png": "[encoded data removed]",
      "text/plain": [
       "<Figure size 360x288 with 1 Axes>"
      ]
     },
     "metadata": {
      "needs_background": "light"
     },
     "output_type": "display_data"
    }
   ],
   "source": [
    "# plot top 20 feature importance\n",
    "fig, ax = plt.subplots(figsize=(5,4))\n",
    "imp.head(20).sort_values('feature') \\\n",
    "    .plot.barh(edgecolor='black', alpha=0.6, color='green', legend=False, ax=ax)\n",
    "ax.set_title('Feature Importance', fontsize=15)\n",
    "ax.set_xlabel('Gains');"
   ]
  },
  {
   "cell_type": "code",
   "execution_count": 11,
   "metadata": {},
   "outputs": [],
   "source": [
    "# save model\n",
    "bst.save_model('bst.model')"
   ]
  },
  {
   "cell_type": "code",
   "execution_count": 12,
   "metadata": {},
   "outputs": [
    {
     "data": {
      "text/plain": [
       "13.17170342521235"
      ]
     },
     "execution_count": 12,
     "metadata": {},
     "output_type": "execute_result"
    }
   ],
   "source": [
    "# calculate root mean square error\n",
    "pred = bst.predict(dval)\n",
    "math.sqrt(((y_val - pred)**2).mean())"
   ]
  },
  {
   "cell_type": "code",
   "execution_count": null,
   "metadata": {},
   "outputs": [],
   "source": [
    "# code to load model\n",
    "# bst = xgb.Booster()  # init model\n",
    "# bst.load_model('bst.model')"
   ]
  }
 ],
 "metadata": {
  "kernelspec": {
   "display_name": "Python 3",
   "language": "python",
   "name": "python3"
  },
  "language_info": {
   "codemirror_mode": {
    "name": "ipython",
    "version": 3
   },
   "file_extension": ".py",
   "mimetype": "text/x-python",
   "name": "python",
   "nbconvert_exporter": "python",
   "pygments_lexer": "ipython3",
   "version": "3.7.4"
  }
 },
 "nbformat": 4,
 "nbformat_minor": 2
}
